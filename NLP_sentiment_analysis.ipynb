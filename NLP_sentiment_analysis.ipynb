{
  "nbformat": 4,
  "nbformat_minor": 0,
  "metadata": {
    "colab": {
      "name": "NLP_sentiment_analysis.ipynb",
      "provenance": [],
      "collapsed_sections": [],
      "authorship_tag": "ABX9TyMFlql3y+hBiWeJc9f8zrhD",
      "include_colab_link": true
    },
    "kernelspec": {
      "name": "python3",
      "display_name": "Python 3"
    },
    "language_info": {
      "name": "python"
    }
  },
  "cells": [
    {
      "cell_type": "markdown",
      "metadata": {
        "id": "view-in-github",
        "colab_type": "text"
      },
      "source": [
        "<a href=\"https://colab.research.google.com/github/woodstone10/deep_learning_study-python/blob/main/NLP_sentiment_analysis.ipynb\" target=\"_parent\"><img src=\"https://colab.research.google.com/assets/colab-badge.svg\" alt=\"Open In Colab\"/></a>"
      ]
    },
    {
      "cell_type": "markdown",
      "metadata": {
        "id": "v6Av6qxShF6G"
      },
      "source": [
        "# NLP (Natural Language Processing) Sentiment Analysis - Positive and Negative classification\n",
        "\n",
        "---\n",
        "\n"
      ]
    },
    {
      "cell_type": "markdown",
      "metadata": {
        "id": "Z0Qybm2AhWCU"
      },
      "source": [
        "** Sentimental dictionary**\n",
        "\n",
        "AFINN sentiment analysis in Python: Wordlist-based approach for sentiment analysis.\n",
        "https://pypi.org/project/afinn"
      ]
    },
    {
      "cell_type": "code",
      "metadata": {
        "colab": {
          "base_uri": "https://localhost:8080/"
        },
        "id": "I9fPFaBnYm5Q",
        "outputId": "728ba10e-a514-44dc-8829-8d8e6e40c53e"
      },
      "source": [
        "!pip install afinn"
      ],
      "execution_count": 1,
      "outputs": [
        {
          "output_type": "stream",
          "text": [
            "Collecting afinn\n",
            "\u001b[?25l  Downloading https://files.pythonhosted.org/packages/86/e5/ffbb7ee3cca21ac6d310ac01944fb163c20030b45bda25421d725d8a859a/afinn-0.1.tar.gz (52kB)\n",
            "\r\u001b[K     |██████▎                         | 10kB 15.4MB/s eta 0:00:01\r\u001b[K     |████████████▌                   | 20kB 22.1MB/s eta 0:00:01\r\u001b[K     |██████████████████▊             | 30kB 20.6MB/s eta 0:00:01\r\u001b[K     |█████████████████████████       | 40kB 14.0MB/s eta 0:00:01\r\u001b[K     |███████████████████████████████▏| 51kB 12.4MB/s eta 0:00:01\r\u001b[K     |████████████████████████████████| 61kB 3.6MB/s \n",
            "\u001b[?25hBuilding wheels for collected packages: afinn\n",
            "  Building wheel for afinn (setup.py) ... \u001b[?25l\u001b[?25hdone\n",
            "  Created wheel for afinn: filename=afinn-0.1-cp37-none-any.whl size=53451 sha256=15eadf510e630024c502b78a28e9ab0dfbcb8c287a49b096f6737484929bf53a\n",
            "  Stored in directory: /root/.cache/pip/wheels/b5/1c/de/428301f3333ca509dcf20ff358690eb23a1388fbcbbde008b2\n",
            "Successfully built afinn\n",
            "Installing collected packages: afinn\n",
            "Successfully installed afinn-0.1\n"
          ],
          "name": "stdout"
        }
      ]
    },
    {
      "cell_type": "code",
      "metadata": {
        "id": "31DTn7sQbH6t"
      },
      "source": [
        "import pandas as pd\n",
        "import numpy as np\n",
        "import matplotlib.pyplot as plt\n",
        "import tensorflow as tf\n",
        "\n",
        "from afinn import Afinn\n",
        "import sklearn.datasets "
      ],
      "execution_count": 27,
      "outputs": []
    },
    {
      "cell_type": "markdown",
      "metadata": {
        "id": "CXsDYzHghb3g"
      },
      "source": [
        "**Data sample**"
      ]
    },
    {
      "cell_type": "code",
      "metadata": {
        "colab": {
          "base_uri": "https://localhost:8080/"
        },
        "id": "VrZcOoGwZXM1",
        "outputId": "3a9f849e-02c2-4266-dcc2-0de7587f9056"
      },
      "source": [
        "newsdata = sklearn.datasets.fetch_20newsgroups(subset='train')\n",
        "print(len(newsdata.data))\n",
        "print(newsdata.data[0])"
      ],
      "execution_count": 28,
      "outputs": [
        {
          "output_type": "stream",
          "text": [
            "11314\n",
            "From: lerxst@wam.umd.edu (where's my thing)\n",
            "Subject: WHAT car is this!?\n",
            "Nntp-Posting-Host: rac3.wam.umd.edu\n",
            "Organization: University of Maryland, College Park\n",
            "Lines: 15\n",
            "\n",
            " I was wondering if anyone out there could enlighten me on this car I saw\n",
            "the other day. It was a 2-door sports car, looked to be from the late 60s/\n",
            "early 70s. It was called a Bricklin. The doors were really small. In addition,\n",
            "the front bumper was separate from the rest of the body. This is \n",
            "all I know. If anyone can tellme a model name, engine specs, years\n",
            "of production, where this car is made, history, or whatever info you\n",
            "have on this funky looking car, please e-mail.\n",
            "\n",
            "Thanks,\n",
            "- IL\n",
            "   ---- brought to you by your neighborhood Lerxst ----\n",
            "\n",
            "\n",
            "\n",
            "\n",
            "\n"
          ],
          "name": "stdout"
        }
      ]
    },
    {
      "cell_type": "code",
      "metadata": {
        "id": "nqbzWH95wtqn"
      },
      "source": [
        "afinn = Afinn()"
      ],
      "execution_count": 30,
      "outputs": []
    },
    {
      "cell_type": "code",
      "metadata": {
        "colab": {
          "base_uri": "https://localhost:8080/"
        },
        "id": "KIi5O7TeaCEf",
        "outputId": "d28dfa45-fd83-43e3-9e36-d5af595d7e71"
      },
      "source": [
        "for i in range(10):\n",
        "  print(afinn.score(newsdata.data[i]))"
      ],
      "execution_count": 31,
      "outputs": [
        {
          "output_type": "stream",
          "text": [
            "7.0\n",
            "11.0\n",
            "16.0\n",
            "5.0\n",
            "-23.0\n",
            "-25.0\n",
            "7.0\n",
            "3.0\n",
            "16.0\n",
            "-20.0\n"
          ],
          "name": "stdout"
        }
      ]
    },
    {
      "cell_type": "code",
      "metadata": {
        "id": "KKY-eBVvfYzS"
      },
      "source": [
        "positive, neutral, negative = 0, 0, 0\n",
        "for i in newsdata.data:\n",
        "  score = afinn.score(i)\n",
        "  if score > 0:\n",
        "    positive += 1\n",
        "  elif score == 0:\n",
        "    neutral += 1\n",
        "  else:\n",
        "    negative += 1"
      ],
      "execution_count": 33,
      "outputs": []
    },
    {
      "cell_type": "code",
      "metadata": {
        "colab": {
          "base_uri": "https://localhost:8080/",
          "height": 262
        },
        "id": "VG4fKQ_cgXMZ",
        "outputId": "6a1d44e4-1bc8-45b7-d379-e2cc328ab2f6"
      },
      "source": [
        "plt.bar([1,0,-1], [positive, neutral, negative])\n",
        "plt.show()"
      ],
      "execution_count": 34,
      "outputs": [
        {
          "output_type": "display_data",
          "data": {
            "image/png": "[encoded data removed]",
            "text/plain": [
              "<Figure size 432x288 with 1 Axes>"
            ]
          },
          "metadata": {
            "tags": []
          }
        }
      ]
    }
  ]
}