{
  "nbformat": 4,
  "nbformat_minor": 0,
  "metadata": {
    "colab": {
      "name": "ML_DeepLearning_Predict_Income_Adult.ipynb",
      "provenance": [],
      "collapsed_sections": [],
      "authorship_tag": "ABX9TyNyp/BUTDiQAFskaUyfJXer",
      "include_colab_link": true
    },
    "kernelspec": {
      "name": "python3",
      "display_name": "Python 3"
    },
    "language_info": {
      "name": "python"
    }
  },
  "cells": [
    {
      "cell_type": "markdown",
      "metadata": {
        "id": "view-in-github",
        "colab_type": "text"
      },
      "source": [
        "<a href=\"https://colab.research.google.com/github/woodstone10/deep_learning_study-python/blob/main/ML_DeepLearning_Predict_Income_Adult.ipynb\" target=\"_parent\"><img src=\"https://colab.research.google.com/assets/colab-badge.svg\" alt=\"Open In Colab\"/></a>"
      ]
    },
    {
      "cell_type": "code",
      "metadata": {
        "id": "iQ8X_PruBww2"
      },
      "source": [
        "###########################################################################################\n",
        "#\n",
        "# ML_DeepLearning_Predict_Income_Adult.py\n",
        "#\n",
        "# Predict whether income exceeds $50K/yr based on census data. \n",
        "# Also known as \"Census Income\" dataset.\n",
        "# UCI data set name: Adult (https://archive.ics.uci.edu/ml/machine-learning-databases/adult/)\n",
        "#\n",
        "# Created by Jonggil Nam\n",
        "# LinkedIn: https://www.linkedin.com/in/jonggil-nam-6099a162/\n",
        "# Github: https://github.com/woodstone10\n",
        "# e-mail: woodstone10@gmail.com\n",
        "# phone: +82-10-8709-6299\n",
        "###########################################################################################\n",
        " \n",
        "import numpy as np\n",
        "import pandas as pd\n",
        "import matplotlib.pyplot as plt\n",
        "import tensorflow as tf\n",
        "import sklearn.model_selection\n",
        "import sklearn.preprocessing\n",
        "import sklearn.metrics\n",
        "import sklearn.linear_model\n",
        "import sklearn.ensemble\n",
        "import sklearn.neural_network\n",
        "import sklearn.naive_bayes\n",
        "import sklearn.tree\n",
        "import sklearn.svm"
      ],
      "execution_count": 1,
      "outputs": []
    },
    {
      "cell_type": "code",
      "metadata": {
        "colab": {
          "base_uri": "https://localhost:8080/"
        },
        "id": "SGhUIpg-PhpE",
        "outputId": "19646624-7e94-41a9-a317-8aed48b9bdbe"
      },
      "source": [
        "# Data set from UCI Machine Learning Repository\n",
        "#  - https://archive.ics.uci.edu/ml/machine-learning-databases/adult/\n",
        "# Listing of attributes:\n",
        "# 1. age: continuous.\n",
        "# 2. workclass: Private, Self-emp-not-inc, Self-emp-inc, Federal-gov, Local-gov,\n",
        "#       State-gov, Without-pay, Never-worked.\n",
        "# 3. fnlwgt: continuous.\n",
        "# 4. education: Bachelors, Some-college, 11th, HS-grad, Prof-school, Assoc-acdm, Assoc-voc,\n",
        "#       9th, 7th-8th, 12th, Masters, 1st-4th, 10th, Doctorate, 5th-6th, Preschool.\n",
        "# 5. education-num: continuous.\n",
        "# 6. marital-status: Married-civ-spouse, Divorced, Never-married, Separated, Widowed,\n",
        "#       Married-spouse-absent, Married-AF-spouse.\n",
        "# 7. occupation: Tech-support, Craft-repair, Other-service, Sales, Exec-managerial,\n",
        "#       Prof-specialty, Handlers-cleaners, Machine-op-inspct, Adm-clerical, Farming-fishing, Transport-moving,\n",
        "#       Priv-house-serv, Protective-serv, Armed-Forces.\n",
        "# 8. relationship: Wife, Own-child, Husband, Not-in-family, Other-relative, Unmarried.\n",
        "# 9. race: White, Asian-Pac-Islander, Amer-Indian-Eskimo, Other, Black.\n",
        "# 10. sex: Female, Male.\n",
        "# 11. capital-gain: continuous.\n",
        "# 12. capital-loss: continuous.\n",
        "# 13. hours-per-week: continuous.\n",
        "# 14. native-country: United-States, Cambodia, England, Puerto-Rico,\n",
        "#       Canada, Germany, Outlying-US(Guam-USVI-etc), India, Japan, Greece, South, China, Cuba, Iran, Honduras,\n",
        "#       Philippines, Italy, Poland, Jamaica, Vietnam, Mexico, Portugal, Ireland, France, Dominican-Republic,\n",
        "#       Laos, Ecuador, Taiwan, Haiti, Columbia, Hungary, Guatemala, Nicaragua, Scotland, Thailand, Yugoslavia,\n",
        "#       El-Salvador, Trinadad&Tobago, Peru, Hong, Holand-Netherlands.\n",
        "\n",
        "# dataset from github (UCI)\n",
        "#a = pd.read_csv('https://raw.githubusercontent.com/woodstone10/dataset/main/adult.data', error_bad_lines=False)\n",
        "a = pd.read_csv('https://raw.githubusercontent.com/woodstone10/dataset/main/adult.data', sep= ',', header= None,skiprows=1)\n",
        "b = pd.read_csv('https://raw.githubusercontent.com/woodstone10/dataset/main/adult.test', sep= ',', header= None,skiprows=1)\n",
        "df = pd.concat([a, b])\n",
        "print(df.head())"
      ],
      "execution_count": 2,
      "outputs": [
        {
          "output_type": "stream",
          "text": [
            "   0                  1       2           3   ...  11  12              13      14\n",
            "0  50   Self-emp-not-inc   83311   Bachelors  ...   0  13   United-States   <=50K\n",
            "1  38            Private  215646     HS-grad  ...   0  40   United-States   <=50K\n",
            "2  53            Private  234721        11th  ...   0  40   United-States   <=50K\n",
            "3  28            Private  338409   Bachelors  ...   0  40            Cuba   <=50K\n",
            "4  37            Private  284582     Masters  ...   0  40   United-States   <=50K\n",
            "\n",
            "[5 rows x 15 columns]\n"
          ],
          "name": "stdout"
        }
      ]
    },
    {
      "cell_type": "code",
      "metadata": {
        "colab": {
          "base_uri": "https://localhost:8080/"
        },
        "id": "JBy3OMdBT8Yh",
        "outputId": "5759c263-aeec-436e-ee3e-ec62d6376e15"
      },
      "source": [
        "data = df\n",
        "data.replace({\n",
        "    ' <=50K':0,\n",
        "    ' <=50K.':0,\n",
        "    ' >50K':1,\n",
        "    ' >50K.':1,\n",
        "},inplace=True)\n",
        "print(data.head())\n"
      ],
      "execution_count": 3,
      "outputs": [
        {
          "output_type": "stream",
          "text": [
            "   0                  1       2           3   ...  11  12              13 14\n",
            "0  50   Self-emp-not-inc   83311   Bachelors  ...   0  13   United-States  0\n",
            "1  38            Private  215646     HS-grad  ...   0  40   United-States  0\n",
            "2  53            Private  234721        11th  ...   0  40   United-States  0\n",
            "3  28            Private  338409   Bachelors  ...   0  40            Cuba  0\n",
            "4  37            Private  284582     Masters  ...   0  40   United-States  0\n",
            "\n",
            "[5 rows x 15 columns]\n"
          ],
          "name": "stdout"
        }
      ]
    },
    {
      "cell_type": "code",
      "metadata": {
        "colab": {
          "base_uri": "https://localhost:8080/"
        },
        "id": "uLwnyGxUFTYu",
        "outputId": "12b9a2c9-f94f-47a1-b51e-75673aa70d3e"
      },
      "source": [
        "# encoding using sklearn LabelEncoder (string to numeric)\n",
        "transform_needed = [False, True, False, True, False, True, True, True, True, True, False, False, False, True, False]\n",
        "encoded_data = np.zeros(shape=(data.shape[0], data.shape[1]), dtype=np.int)\n",
        "for i in range(len(transform_needed)):\n",
        "    if transform_needed[i]:\n",
        "        tmp_data = data.iloc[:, i].tolist()\n",
        "        encoder = sklearn.preprocessing.LabelEncoder()\n",
        "        encoder.fit(tmp_data)\n",
        "        encoded_data[:, i] = encoder.transform(tmp_data)\n",
        "    else:\n",
        "        encoded_data[:, i] = data.iloc[:, i].tolist()\n",
        "print(encoded_data)\n"
      ],
      "execution_count": 4,
      "outputs": [
        {
          "output_type": "stream",
          "text": [
            "[[    50      6  83311 ...     13     39      0]\n",
            " [    38      4 215646 ...     40     39      0]\n",
            " [    53      4 234721 ...     40     39      0]\n",
            " ...\n",
            " [    38      4 374983 ...     50     39      0]\n",
            " [    44      4  83891 ...     40     39      0]\n",
            " [    35      5 182148 ...     60     39      1]]\n"
          ],
          "name": "stdout"
        }
      ]
    },
    {
      "cell_type": "code",
      "metadata": {
        "colab": {
          "base_uri": "https://localhost:8080/"
        },
        "id": "wfYI0spzG6Cd",
        "outputId": "e60c135e-17cf-4784-ca2e-47dad1d302dd"
      },
      "source": [
        "# encoded data X and y\n",
        "X = encoded_data[:,:14]\n",
        "y = encoded_data[:,14]\n",
        "print(X)"
      ],
      "execution_count": 5,
      "outputs": [
        {
          "output_type": "stream",
          "text": [
            "[[    50      6  83311 ...      0     13     39]\n",
            " [    38      4 215646 ...      0     40     39]\n",
            " [    53      4 234721 ...      0     40     39]\n",
            " ...\n",
            " [    38      4 374983 ...      0     50     39]\n",
            " [    44      4  83891 ...      0     40     39]\n",
            " [    35      5 182148 ...      0     60     39]]\n"
          ],
          "name": "stdout"
        }
      ]
    },
    {
      "cell_type": "code",
      "metadata": {
        "colab": {
          "base_uri": "https://localhost:8080/"
        },
        "id": "zLWuHhcbG8pb",
        "outputId": "187feb64-8dae-49cc-a618-f300cf8c9b5f"
      },
      "source": [
        "# encoded data split into train 80%, test 20%\n",
        "X_train, X_test, y_train, y_test = sklearn.model_selection.train_test_split(X, y, test_size=0.2)\n",
        "print(\"total data size:\",X.shape, \"train data size:\",X_train.shape, \"test data size:\",X_test.shape)\n"
      ],
      "execution_count": 6,
      "outputs": [
        {
          "output_type": "stream",
          "text": [
            "total data size: (48841, 14) train data size: (39072, 14) test data size: (9769, 14)\n"
          ],
          "name": "stdout"
        }
      ]
    },
    {
      "cell_type": "code",
      "metadata": {
        "colab": {
          "base_uri": "https://localhost:8080/",
          "height": 1000
        },
        "id": "o5FwjHybHCyS",
        "outputId": "763f7513-95f8-403d-ee2b-ecbb77a5e1b0"
      },
      "source": [
        "# ------------------------------------------------------------------\n",
        "# Model. Artificial Neural Network Deep Learning using Keras high-level API\n",
        "# ------------------------------------------------------------------\n",
        "model = tf.keras.Sequential([\n",
        "        tf.keras.layers.Dense(32, input_shape=X_train[1].shape, activation='relu'),\n",
        "        tf.keras.layers.Dropout(0.3), # for reduce overfitting\n",
        "        tf.keras.layers.Dense(16, activation='relu'),\n",
        "        tf.keras.layers.Dropout(0.3), # for reduce overfitting\n",
        "        tf.keras.layers.Dense(8, activation='relu'),\n",
        "        tf.keras.layers.Dropout(0.3), # for reduce overfitting\n",
        "        tf.keras.layers.Dense(1, activation='sigmoid') # output is 1 or o, so sigmoid function is used\n",
        "])\n",
        "\n",
        "model.compile(\n",
        "    optimizer=tf.keras.optimizers.Adam(lr=0.001, beta_1=0.9, beta_2=0.999),\n",
        "    loss=tf.keras.losses.binary_crossentropy, # prediction is 1 or 0, so binary_crossentropy is selected.\n",
        "    metrics=['accuracy']\n",
        ")\n",
        "\n",
        "train = model.fit(X_train, y_train,\n",
        "                    validation_split=0.3, # train data split into train 70%, validation 30%\n",
        "                    epochs=50,\n",
        "                    verbose=1 # online display with progressbar\n",
        "                    )\n",
        "\n",
        "# Learning curve (loss and accuracy)\n",
        "train_acc = train.history['accuracy']\n",
        "train_loss = train.history['loss']\n",
        "val_acc = train.history['val_accuracy']\n",
        "val_loss = train.history['val_loss']\n",
        "\n",
        "plt.figure(figsize=(10, 5))\n",
        "plt.subplot(1, 2, 1)\n",
        "plt.plot(np.arange((len(train_acc))), train_acc, label='train accuracy')\n",
        "plt.plot(np.arange((len(val_acc))), val_acc, label='validation accuracy')\n",
        "plt.legend(loc='best')\n",
        "plt.xlabel('epochs')\n",
        "plt.ylabel('accuracy')\n",
        "plt.subplot(1, 2, 2)\n",
        "plt.plot(np.arange((len(train_loss))), train_loss, label='train loss')\n",
        "plt.plot(np.arange((len(val_loss))), val_loss, label='validation loss')\n",
        "plt.legend(loc='best')\n",
        "plt.xlabel('epochs')\n",
        "plt.ylabel('loss')\n",
        "plt.suptitle('Learning Curve \\n Deep Learning of Adult (Predict Income >|<= 50k)', fontsize=15)\n",
        "plt.tight_layout()\n",
        "plt.show()\n",
        "\n",
        "test_loss, test_acc = model.evaluate(X_test, y_test)\n",
        "print(\"-\"*30)\n",
        "print(\"Test Accuracy\")\n",
        "print(\"-\"*30)\n",
        "print(\"Deep Learning with Neural Network:\", test_acc)"
      ],
      "execution_count": 7,
      "outputs": [
        {
          "output_type": "stream",
          "text": [
            "Epoch 1/50\n",
            "855/855 [==============================] - 3s 2ms/step - loss: 2161.4200 - accuracy: 0.6584 - val_loss: 0.6823 - val_accuracy: 0.6268\n",
            "Epoch 2/50\n",
            "855/855 [==============================] - 2s 2ms/step - loss: 35.0988 - accuracy: 0.6798 - val_loss: 0.5707 - val_accuracy: 0.7658\n",
            "Epoch 3/50\n",
            "855/855 [==============================] - 2s 2ms/step - loss: 14.8638 - accuracy: 0.6938 - val_loss: 0.5880 - val_accuracy: 0.7658\n",
            "Epoch 4/50\n",
            "855/855 [==============================] - 2s 2ms/step - loss: 8.2004 - accuracy: 0.7297 - val_loss: 0.5516 - val_accuracy: 0.7657\n",
            "Epoch 5/50\n",
            "855/855 [==============================] - 2s 2ms/step - loss: 4.9301 - accuracy: 0.7397 - val_loss: 0.5469 - val_accuracy: 0.7657\n",
            "Epoch 6/50\n",
            "855/855 [==============================] - 2s 2ms/step - loss: 1.5950 - accuracy: 0.7474 - val_loss: 0.5451 - val_accuracy: 0.7656\n",
            "Epoch 7/50\n",
            "855/855 [==============================] - 2s 2ms/step - loss: 1.1246 - accuracy: 0.7506 - val_loss: 0.5448 - val_accuracy: 0.7655\n",
            "Epoch 8/50\n",
            "855/855 [==============================] - 2s 2ms/step - loss: 0.7356 - accuracy: 0.7593 - val_loss: 0.5449 - val_accuracy: 0.7655\n",
            "Epoch 9/50\n",
            "855/855 [==============================] - 2s 2ms/step - loss: 0.7533 - accuracy: 0.7608 - val_loss: 0.5448 - val_accuracy: 0.7655\n",
            "Epoch 10/50\n",
            "855/855 [==============================] - 2s 2ms/step - loss: 0.6323 - accuracy: 0.7531 - val_loss: 0.5450 - val_accuracy: 0.7655\n",
            "Epoch 11/50\n",
            "855/855 [==============================] - 2s 2ms/step - loss: 0.7806 - accuracy: 0.7636 - val_loss: 0.5445 - val_accuracy: 0.7656\n",
            "Epoch 12/50\n",
            "855/855 [==============================] - 2s 2ms/step - loss: 1.2180 - accuracy: 0.7612 - val_loss: 0.5462 - val_accuracy: 0.7655\n",
            "Epoch 13/50\n",
            "855/855 [==============================] - 2s 2ms/step - loss: 0.6413 - accuracy: 0.7634 - val_loss: 0.5448 - val_accuracy: 0.7655\n",
            "Epoch 14/50\n",
            "855/855 [==============================] - 2s 2ms/step - loss: 0.5445 - accuracy: 0.7666 - val_loss: 0.5448 - val_accuracy: 0.7655\n",
            "Epoch 15/50\n",
            "855/855 [==============================] - 2s 2ms/step - loss: 0.5690 - accuracy: 0.7609 - val_loss: 0.5447 - val_accuracy: 0.7655\n",
            "Epoch 16/50\n",
            "855/855 [==============================] - 2s 2ms/step - loss: 0.5933 - accuracy: 0.7629 - val_loss: 0.5448 - val_accuracy: 0.7655\n",
            "Epoch 17/50\n",
            "855/855 [==============================] - 2s 2ms/step - loss: 0.5656 - accuracy: 0.7577 - val_loss: 0.5447 - val_accuracy: 0.7655\n",
            "Epoch 18/50\n",
            "855/855 [==============================] - 2s 2ms/step - loss: 0.5645 - accuracy: 0.7628 - val_loss: 0.5448 - val_accuracy: 0.7655\n",
            "Epoch 19/50\n",
            "855/855 [==============================] - 2s 2ms/step - loss: 0.5906 - accuracy: 0.7620 - val_loss: 0.5447 - val_accuracy: 0.7655\n",
            "Epoch 20/50\n",
            "855/855 [==============================] - 2s 2ms/step - loss: 0.5597 - accuracy: 0.7594 - val_loss: 0.5447 - val_accuracy: 0.7655\n",
            "Epoch 21/50\n",
            "855/855 [==============================] - 2s 2ms/step - loss: 0.5926 - accuracy: 0.7586 - val_loss: 0.5447 - val_accuracy: 0.7655\n",
            "Epoch 22/50\n",
            "855/855 [==============================] - 2s 2ms/step - loss: 0.5485 - accuracy: 0.7625 - val_loss: 0.5447 - val_accuracy: 0.7655\n",
            "Epoch 23/50\n",
            "855/855 [==============================] - 2s 2ms/step - loss: 0.5553 - accuracy: 0.7607 - val_loss: 0.5447 - val_accuracy: 0.7655\n",
            "Epoch 24/50\n",
            "855/855 [==============================] - 2s 2ms/step - loss: 0.5462 - accuracy: 0.7642 - val_loss: 0.5447 - val_accuracy: 0.7655\n",
            "Epoch 25/50\n",
            "855/855 [==============================] - 2s 2ms/step - loss: 0.5464 - accuracy: 0.7649 - val_loss: 0.5447 - val_accuracy: 0.7655\n",
            "Epoch 26/50\n",
            "855/855 [==============================] - 2s 2ms/step - loss: 0.5541 - accuracy: 0.7574 - val_loss: 0.5447 - val_accuracy: 0.7655\n",
            "Epoch 27/50\n",
            "855/855 [==============================] - 2s 2ms/step - loss: 0.5682 - accuracy: 0.7591 - val_loss: 0.5447 - val_accuracy: 0.7655\n",
            "Epoch 28/50\n",
            "855/855 [==============================] - 2s 2ms/step - loss: 0.5501 - accuracy: 0.7608 - val_loss: 0.5447 - val_accuracy: 0.7655\n",
            "Epoch 29/50\n",
            "855/855 [==============================] - 2s 2ms/step - loss: 0.5473 - accuracy: 0.7633 - val_loss: 0.5447 - val_accuracy: 0.7655\n",
            "Epoch 30/50\n",
            "855/855 [==============================] - 2s 2ms/step - loss: 0.5449 - accuracy: 0.7654 - val_loss: 0.5448 - val_accuracy: 0.7655\n",
            "Epoch 31/50\n",
            "855/855 [==============================] - 2s 2ms/step - loss: 0.5575 - accuracy: 0.7591 - val_loss: 0.5447 - val_accuracy: 0.7655\n",
            "Epoch 32/50\n",
            "855/855 [==============================] - 2s 2ms/step - loss: 0.5642 - accuracy: 0.7613 - val_loss: 0.5447 - val_accuracy: 0.7655\n",
            "Epoch 33/50\n",
            "855/855 [==============================] - 2s 2ms/step - loss: 0.5482 - accuracy: 0.7624 - val_loss: 0.5448 - val_accuracy: 0.7655\n",
            "Epoch 34/50\n",
            "855/855 [==============================] - 2s 2ms/step - loss: 0.5507 - accuracy: 0.7610 - val_loss: 0.5447 - val_accuracy: 0.7655\n",
            "Epoch 35/50\n",
            "855/855 [==============================] - 2s 2ms/step - loss: 0.5507 - accuracy: 0.7603 - val_loss: 0.5447 - val_accuracy: 0.7655\n",
            "Epoch 36/50\n",
            "855/855 [==============================] - 2s 2ms/step - loss: 0.5529 - accuracy: 0.7585 - val_loss: 0.5447 - val_accuracy: 0.7655\n",
            "Epoch 37/50\n",
            "855/855 [==============================] - 2s 2ms/step - loss: 0.5819 - accuracy: 0.7595 - val_loss: 0.5447 - val_accuracy: 0.7655\n",
            "Epoch 38/50\n",
            "855/855 [==============================] - 2s 2ms/step - loss: 0.5485 - accuracy: 0.7622 - val_loss: 0.5447 - val_accuracy: 0.7655\n",
            "Epoch 39/50\n",
            "855/855 [==============================] - 2s 2ms/step - loss: 0.5477 - accuracy: 0.7629 - val_loss: 0.5447 - val_accuracy: 0.7655\n",
            "Epoch 40/50\n",
            "855/855 [==============================] - 2s 2ms/step - loss: 0.6001 - accuracy: 0.7629 - val_loss: 0.5447 - val_accuracy: 0.7655\n",
            "Epoch 41/50\n",
            "855/855 [==============================] - 2s 2ms/step - loss: 0.5491 - accuracy: 0.7618 - val_loss: 0.5447 - val_accuracy: 0.7655\n",
            "Epoch 42/50\n",
            "855/855 [==============================] - 2s 2ms/step - loss: 0.5540 - accuracy: 0.7588 - val_loss: 0.5447 - val_accuracy: 0.7655\n",
            "Epoch 43/50\n",
            "855/855 [==============================] - 2s 2ms/step - loss: 0.5529 - accuracy: 0.7586 - val_loss: 0.5447 - val_accuracy: 0.7655\n",
            "Epoch 44/50\n",
            "855/855 [==============================] - 2s 2ms/step - loss: 0.5547 - accuracy: 0.7610 - val_loss: 0.5447 - val_accuracy: 0.7655\n",
            "Epoch 45/50\n",
            "855/855 [==============================] - 2s 2ms/step - loss: 0.5497 - accuracy: 0.7613 - val_loss: 0.5447 - val_accuracy: 0.7655\n",
            "Epoch 46/50\n",
            "855/855 [==============================] - 2s 2ms/step - loss: 0.5538 - accuracy: 0.7647 - val_loss: 0.5448 - val_accuracy: 0.7655\n",
            "Epoch 47/50\n",
            "855/855 [==============================] - 2s 2ms/step - loss: 0.5475 - accuracy: 0.7636 - val_loss: 0.5448 - val_accuracy: 0.7655\n",
            "Epoch 48/50\n",
            "855/855 [==============================] - 2s 2ms/step - loss: 0.5630 - accuracy: 0.7624 - val_loss: 0.5448 - val_accuracy: 0.7655\n",
            "Epoch 49/50\n",
            "855/855 [==============================] - 2s 2ms/step - loss: 0.5468 - accuracy: 0.7637 - val_loss: 0.5447 - val_accuracy: 0.7655\n",
            "Epoch 50/50\n",
            "855/855 [==============================] - 2s 2ms/step - loss: 0.5491 - accuracy: 0.7630 - val_loss: 0.5447 - val_accuracy: 0.7655\n"
          ],
          "name": "stdout"
        },
        {
          "output_type": "display_data",
          "data": {
            "image/png": "[encoded data removed]",
            "text/plain": [
              "<Figure size 720x360 with 2 Axes>"
            ]
          },
          "metadata": {
            "tags": [],
            "needs_background": "light"
          }
        },
        {
          "output_type": "stream",
          "text": [
            "306/306 [==============================] - 0s 988us/step - loss: 0.5597 - accuracy: 0.7527\n",
            "------------------------------\n",
            "Test Accuracy\n",
            "------------------------------\n",
            "Deep Learning with Neural Network: 0.7526870965957642\n"
          ],
          "name": "stdout"
        }
      ]
    },
    {
      "cell_type": "code",
      "metadata": {
        "colab": {
          "base_uri": "https://localhost:8080/"
        },
        "id": "KfnfjBoCHha_",
        "outputId": "ea03b8bf-0e16-4afd-e1ea-59b0926146c0"
      },
      "source": [
        "# ------------------------------------------------------------------\n",
        "# Appendix. Comparison to other algorithms using Scikit-Learn\n",
        "# refer to https://www.kaggle.com/overload10/income-prediction-on-uci-adult-dataset\n",
        "# ------------------------------------------------------------------\n",
        "# Model. Logistic Regression\n",
        "model = sklearn.linear_model.LogisticRegression()\n",
        "model.fit(X_train, y_train)\n",
        "y_pred = model.predict(X_test)\n",
        "test_acc = sklearn.metrics.accuracy_score(y_test, y_pred)\n",
        "print(\"Logistic Regression:\",test_acc)\n",
        "\n",
        "# Model. Random Forest\n",
        "model = sklearn.ensemble.RandomForestClassifier()\n",
        "model.fit(X_train, y_train)\n",
        "y_pred = model.predict(X_test)\n",
        "test_acc = sklearn.metrics.accuracy_score(y_test, y_pred)\n",
        "print(\"Random Forest:\",test_acc)\n",
        "\n",
        "# Model. Neural Network\n",
        "model = sklearn.neural_network.MLPClassifier()\n",
        "model.fit(X_train, y_train)\n",
        "y_pred = model.predict(X_test)\n",
        "test_acc = sklearn.metrics.accuracy_score(y_test, y_pred)\n",
        "print(\"Neural Network:\",test_acc)\n",
        "\n",
        "# Model. Naive Bayes\n",
        "model = sklearn.naive_bayes.GaussianNB()\n",
        "model.fit(X_train, y_train)\n",
        "y_pred = model.predict(X_test)\n",
        "test_acc = sklearn.metrics.accuracy_score(y_test, y_pred)\n",
        "print(\"Gaussian NB:\",test_acc)\n",
        "\n",
        "# Model. Decision Tree\n",
        "model = sklearn.tree.DecisionTreeClassifier()\n",
        "model.fit(X_train, y_train)\n",
        "y_pred = model.predict(X_test)\n",
        "test_acc = sklearn.metrics.accuracy_score(y_test, y_pred)\n",
        "print(\"Decision Tree Classifier:\",test_acc)\n",
        "\n",
        "# Model. SVM\n",
        "model = sklearn.svm.SVC()\n",
        "model.fit(X_train, y_train)\n",
        "y_pred = model.predict(X_test)\n",
        "test_acc = sklearn.metrics.accuracy_score(y_test, y_pred)\n",
        "print(\"SVM:\",test_acc)\n"
      ],
      "execution_count": 8,
      "outputs": [
        {
          "output_type": "stream",
          "text": [
            "Logistic Regression: 0.7917903572525335\n",
            "Random Forest: 0.8529020370559934\n"
          ],
          "name": "stdout"
        },
        {
          "output_type": "stream",
          "text": [
            "/usr/local/lib/python3.7/dist-packages/sklearn/neural_network/_multilayer_perceptron.py:571: ConvergenceWarning: Stochastic Optimizer: Maximum iterations (200) reached and the optimization hasn't converged yet.\n",
            "  % self.max_iter, ConvergenceWarning)\n"
          ],
          "name": "stderr"
        },
        {
          "output_type": "stream",
          "text": [
            "Neural Network: 0.7692701402395332\n",
            "Gaussian NB: 0.7882075954550107\n",
            "Decision Tree Classifier: 0.8094994369945747\n",
            "SVM: 0.7908690756474562\n"
          ],
          "name": "stdout"
        }
      ]
    }
  ]
}