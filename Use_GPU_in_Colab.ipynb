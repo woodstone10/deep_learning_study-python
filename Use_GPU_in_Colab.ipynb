{
  "nbformat": 4,
  "nbformat_minor": 0,
  "metadata": {
    "colab": {
      "name": "Use_GPU_in_Colab.ipynb",
      "provenance": [],
      "collapsed_sections": [],
      "authorship_tag": "ABX9TyN28SJhdVUU16VrqWe4nqfX",
      "include_colab_link": true
    },
    "kernelspec": {
      "name": "python3",
      "display_name": "Python 3"
    },
    "language_info": {
      "name": "python"
    },
    "accelerator": "GPU"
  },
  "cells": [
    {
      "cell_type": "markdown",
      "metadata": {
        "id": "view-in-github",
        "colab_type": "text"
      },
      "source": [
        "<a href=\"https://colab.research.google.com/github/woodstone10/deep_learning_study-python/blob/main/Use_GPU_in_Colab.ipynb\" target=\"_parent\"><img src=\"https://colab.research.google.com/assets/colab-badge.svg\" alt=\"Open In Colab\"/></a>"
      ]
    },
    {
      "cell_type": "code",
      "metadata": {
        "id": "iQ8X_PruBww2"
      },
      "source": [
        "###########################################################################################\n",
        "#\n",
        "# Use GPU Hardware accelator in Google Colab\n",
        "# ML_DeepLearning_Predict_Income_Adult.py\n",
        "#\n",
        "# Predict whether income exceeds $50K/yr based on census data. \n",
        "# Also known as \"Census Income\" dataset.\n",
        "# UCI data set name: Adult (https://archive.ics.uci.edu/ml/machine-learning-databases/adult/)\n",
        "#\n",
        "# Created by Jonggil Nam\n",
        "# LinkedIn: https://www.linkedin.com/in/jonggil-nam-6099a162/\n",
        "# Github: https://github.com/woodstone10\n",
        "# e-mail: woodstone10@gmail.com\n",
        "# phone: +82-10-8709-6299\n",
        "###########################################################################################\n",
        " \n",
        "import numpy as np\n",
        "import pandas as pd\n",
        "import matplotlib.pyplot as plt\n",
        "import tensorflow as tf\n",
        "import sklearn.model_selection\n",
        "import sklearn.preprocessing\n",
        "import sklearn.metrics\n",
        "import sklearn.linear_model\n",
        "import sklearn.ensemble\n",
        "import sklearn.neural_network\n",
        "import sklearn.naive_bayes\n",
        "import sklearn.tree\n",
        "import sklearn.svm\n",
        "import timeit"
      ],
      "execution_count": null,
      "outputs": []
    },
    {
      "cell_type": "code",
      "metadata": {
        "colab": {
          "base_uri": "https://localhost:8080/"
        },
        "id": "njbQn501zYde",
        "outputId": "2df3f691-04d6-4ffd-ed83-4ba0a3e0f123"
      },
      "source": [
        "device_name = tf.test.gpu_device_name()\n",
        "if device_name != '/device:GPU:0':\n",
        "  raise SystemError('GPU device not found')\n",
        "print('Found GPU at: {}'.format(device_name))"
      ],
      "execution_count": null,
      "outputs": [
        {
          "output_type": "stream",
          "text": [
            "Found GPU at: /device:GPU:0\n"
          ],
          "name": "stdout"
        }
      ]
    },
    {
      "cell_type": "code",
      "metadata": {
        "colab": {
          "base_uri": "https://localhost:8080/"
        },
        "id": "SGhUIpg-PhpE",
        "outputId": "65d958da-fc82-469f-e995-3bcffcf26414"
      },
      "source": [
        "# Data set from UCI Machine Learning Repository\n",
        "#  - https://archive.ics.uci.edu/ml/machine-learning-databases/adult/\n",
        "# Listing of attributes:\n",
        "# 1. age: continuous.\n",
        "# 2. workclass: Private, Self-emp-not-inc, Self-emp-inc, Federal-gov, Local-gov,\n",
        "#       State-gov, Without-pay, Never-worked.\n",
        "# 3. fnlwgt: continuous.\n",
        "# 4. education: Bachelors, Some-college, 11th, HS-grad, Prof-school, Assoc-acdm, Assoc-voc,\n",
        "#       9th, 7th-8th, 12th, Masters, 1st-4th, 10th, Doctorate, 5th-6th, Preschool.\n",
        "# 5. education-num: continuous.\n",
        "# 6. marital-status: Married-civ-spouse, Divorced, Never-married, Separated, Widowed,\n",
        "#       Married-spouse-absent, Married-AF-spouse.\n",
        "# 7. occupation: Tech-support, Craft-repair, Other-service, Sales, Exec-managerial,\n",
        "#       Prof-specialty, Handlers-cleaners, Machine-op-inspct, Adm-clerical, Farming-fishing, Transport-moving,\n",
        "#       Priv-house-serv, Protective-serv, Armed-Forces.\n",
        "# 8. relationship: Wife, Own-child, Husband, Not-in-family, Other-relative, Unmarried.\n",
        "# 9. race: White, Asian-Pac-Islander, Amer-Indian-Eskimo, Other, Black.\n",
        "# 10. sex: Female, Male.\n",
        "# 11. capital-gain: continuous.\n",
        "# 12. capital-loss: continuous.\n",
        "# 13. hours-per-week: continuous.\n",
        "# 14. native-country: United-States, Cambodia, England, Puerto-Rico,\n",
        "#       Canada, Germany, Outlying-US(Guam-USVI-etc), India, Japan, Greece, South, China, Cuba, Iran, Honduras,\n",
        "#       Philippines, Italy, Poland, Jamaica, Vietnam, Mexico, Portugal, Ireland, France, Dominican-Republic,\n",
        "#       Laos, Ecuador, Taiwan, Haiti, Columbia, Hungary, Guatemala, Nicaragua, Scotland, Thailand, Yugoslavia,\n",
        "#       El-Salvador, Trinadad&Tobago, Peru, Hong, Holand-Netherlands.\n",
        "\n",
        "# dataset from github (UCI)\n",
        "#a = pd.read_csv('https://raw.githubusercontent.com/woodstone10/dataset/main/adult.data', error_bad_lines=False)\n",
        "a = pd.read_csv('https://raw.githubusercontent.com/woodstone10/dataset/main/adult.data', sep= ',', header= None,skiprows=1)\n",
        "b = pd.read_csv('https://raw.githubusercontent.com/woodstone10/dataset/main/adult.test', sep= ',', header= None,skiprows=1)\n",
        "df = pd.concat([a, b])\n",
        "print(df.head())"
      ],
      "execution_count": null,
      "outputs": [
        {
          "output_type": "stream",
          "text": [
            "   0                  1       2           3   ...  11  12              13      14\n",
            "0  50   Self-emp-not-inc   83311   Bachelors  ...   0  13   United-States   <=50K\n",
            "1  38            Private  215646     HS-grad  ...   0  40   United-States   <=50K\n",
            "2  53            Private  234721        11th  ...   0  40   United-States   <=50K\n",
            "3  28            Private  338409   Bachelors  ...   0  40            Cuba   <=50K\n",
            "4  37            Private  284582     Masters  ...   0  40   United-States   <=50K\n",
            "\n",
            "[5 rows x 15 columns]\n"
          ],
          "name": "stdout"
        }
      ]
    },
    {
      "cell_type": "code",
      "metadata": {
        "colab": {
          "base_uri": "https://localhost:8080/"
        },
        "id": "JBy3OMdBT8Yh",
        "outputId": "93e74d21-0778-4f07-c6df-127316285290"
      },
      "source": [
        "data = df\n",
        "data.replace({\n",
        "    ' <=50K':0,\n",
        "    ' <=50K.':0,\n",
        "    ' >50K':1,\n",
        "    ' >50K.':1,\n",
        "},inplace=True)\n",
        "print(data.head())\n"
      ],
      "execution_count": null,
      "outputs": [
        {
          "output_type": "stream",
          "text": [
            "   0                  1       2           3   ...  11  12              13 14\n",
            "0  50   Self-emp-not-inc   83311   Bachelors  ...   0  13   United-States  0\n",
            "1  38            Private  215646     HS-grad  ...   0  40   United-States  0\n",
            "2  53            Private  234721        11th  ...   0  40   United-States  0\n",
            "3  28            Private  338409   Bachelors  ...   0  40            Cuba  0\n",
            "4  37            Private  284582     Masters  ...   0  40   United-States  0\n",
            "\n",
            "[5 rows x 15 columns]\n"
          ],
          "name": "stdout"
        }
      ]
    },
    {
      "cell_type": "code",
      "metadata": {
        "colab": {
          "base_uri": "https://localhost:8080/"
        },
        "id": "uLwnyGxUFTYu",
        "outputId": "36360a32-a486-4a87-9ef6-983665d2a7db"
      },
      "source": [
        "# encoding using sklearn LabelEncoder (string to numeric)\n",
        "transform_needed = [False, True, False, True, False, True, True, True, True, True, False, False, False, True, False]\n",
        "encoded_data = np.zeros(shape=(data.shape[0], data.shape[1]), dtype=np.int)\n",
        "for i in range(len(transform_needed)):\n",
        "    if transform_needed[i]:\n",
        "        tmp_data = data.iloc[:, i].tolist()\n",
        "        encoder = sklearn.preprocessing.LabelEncoder()\n",
        "        encoder.fit(tmp_data)\n",
        "        encoded_data[:, i] = encoder.transform(tmp_data)\n",
        "    else:\n",
        "        encoded_data[:, i] = data.iloc[:, i].tolist()\n",
        "print(encoded_data)\n"
      ],
      "execution_count": null,
      "outputs": [
        {
          "output_type": "stream",
          "text": [
            "[[    50      6  83311 ...     13     39      0]\n",
            " [    38      4 215646 ...     40     39      0]\n",
            " [    53      4 234721 ...     40     39      0]\n",
            " ...\n",
            " [    38      4 374983 ...     50     39      0]\n",
            " [    44      4  83891 ...     40     39      0]\n",
            " [    35      5 182148 ...     60     39      1]]\n"
          ],
          "name": "stdout"
        }
      ]
    },
    {
      "cell_type": "code",
      "metadata": {
        "colab": {
          "base_uri": "https://localhost:8080/"
        },
        "id": "wfYI0spzG6Cd",
        "outputId": "f39c1d51-2c3f-4998-b4c7-77b0247b8e10"
      },
      "source": [
        "# encoded data X and y\n",
        "X = encoded_data[:,:14]\n",
        "y = encoded_data[:,14]\n",
        "print(X)"
      ],
      "execution_count": null,
      "outputs": [
        {
          "output_type": "stream",
          "text": [
            "[[    50      6  83311 ...      0     13     39]\n",
            " [    38      4 215646 ...      0     40     39]\n",
            " [    53      4 234721 ...      0     40     39]\n",
            " ...\n",
            " [    38      4 374983 ...      0     50     39]\n",
            " [    44      4  83891 ...      0     40     39]\n",
            " [    35      5 182148 ...      0     60     39]]\n"
          ],
          "name": "stdout"
        }
      ]
    },
    {
      "cell_type": "code",
      "metadata": {
        "colab": {
          "base_uri": "https://localhost:8080/"
        },
        "id": "zLWuHhcbG8pb",
        "outputId": "73f020f5-709a-4691-fe53-15b7077bf50a"
      },
      "source": [
        "# encoded data split into train 80%, test 20%\n",
        "X_train, X_test, y_train, y_test = sklearn.model_selection.train_test_split(X, y, test_size=0.2)\n",
        "print(\"total data size:\",X.shape, \"train data size:\",X_train.shape, \"test data size:\",X_test.shape)\n"
      ],
      "execution_count": null,
      "outputs": [
        {
          "output_type": "stream",
          "text": [
            "total data size: (48841, 14) train data size: (39072, 14) test data size: (9769, 14)\n"
          ],
          "name": "stdout"
        }
      ]
    },
    {
      "cell_type": "code",
      "metadata": {
        "id": "o5FwjHybHCyS"
      },
      "source": [
        "# ------------------------------------------------------------------\n",
        "# Model. Artificial Neural Network Deep Learning using Keras high-level API\n",
        "# ------------------------------------------------------------------\n",
        "def ANN():\n",
        "  model = tf.keras.Sequential([\n",
        "          tf.keras.layers.Dense(32, input_shape=X_train[1].shape, activation='relu'),\n",
        "          tf.keras.layers.Dropout(0.3), # for reduce overfitting\n",
        "          tf.keras.layers.Dense(16, activation='relu'),\n",
        "          tf.keras.layers.Dropout(0.3), # for reduce overfitting\n",
        "          tf.keras.layers.Dense(8, activation='relu'),\n",
        "          tf.keras.layers.Dropout(0.3), # for reduce overfitting\n",
        "          tf.keras.layers.Dense(1, activation='sigmoid') # output is 1 or o, so sigmoid function is used\n",
        "          ])\n",
        "\n",
        "  model.compile(\n",
        "      optimizer=tf.keras.optimizers.Adam(lr=0.001, beta_1=0.9, beta_2=0.999),\n",
        "      loss=tf.keras.losses.binary_crossentropy, # prediction is 1 or 0, so binary_crossentropy is selected.\n",
        "      metrics=['accuracy']\n",
        "  )\n",
        "\n",
        "  train = model.fit(X_train, y_train,\n",
        "                      validation_split=0.3, # train data split into train 70%, validation 30%\n",
        "                      epochs=20,\n",
        "                      verbose=1 # online display with progressbar\n",
        "                      )\n",
        "\n",
        "  # Learning curve (loss and accuracy)\n",
        "  train_acc = train.history['accuracy']\n",
        "  train_loss = train.history['loss']\n",
        "  val_acc = train.history['val_accuracy']\n",
        "  val_loss = train.history['val_loss']\n",
        "\n",
        "  plt.figure(figsize=(10, 5))\n",
        "  plt.subplot(1, 2, 1)\n",
        "  plt.plot(np.arange((len(train_acc))), train_acc, label='train accuracy')\n",
        "  plt.plot(np.arange((len(val_acc))), val_acc, label='validation accuracy')\n",
        "  plt.legend(loc='best')\n",
        "  plt.xlabel('epochs')\n",
        "  plt.ylabel('accuracy')\n",
        "  plt.subplot(1, 2, 2)\n",
        "  plt.plot(np.arange((len(train_loss))), train_loss, label='train loss')\n",
        "  plt.plot(np.arange((len(val_loss))), val_loss, label='validation loss')\n",
        "  plt.legend(loc='best')\n",
        "  plt.xlabel('epochs')\n",
        "  plt.ylabel('loss')\n",
        "  plt.suptitle('Learning Curve \\n Deep Learning of Adult (Predict Income >|<= 50k)', fontsize=15)\n",
        "  plt.tight_layout()\n",
        "  plt.show()\n",
        "\n",
        "  test_loss, test_acc = model.evaluate(X_test, y_test)\n",
        "  print(\"-\"*30)\n",
        "  print(\"Test Accuracy\")\n",
        "  print(\"-\"*30)\n",
        "  print(\"Deep Learning with Neural Network:\", test_acc)"
      ],
      "execution_count": null,
      "outputs": []
    },
    {
      "cell_type": "code",
      "metadata": {
        "colab": {
          "base_uri": "https://localhost:8080/",
          "height": 1000
        },
        "id": "6N-lBX1D31iv",
        "outputId": "d170a784-dcb7-4f9b-f9e8-5daa80cf36ef"
      },
      "source": [
        "def cpu():\n",
        "  with tf.device('/cpu:0'):\n",
        "    ANN()\n",
        "cpu()"
      ],
      "execution_count": null,
      "outputs": [
        {
          "output_type": "stream",
          "text": [
            "Epoch 1/20\n",
            "855/855 [==============================] - 2s 2ms/step - loss: 1214.0880 - accuracy: 0.6444 - val_loss: 0.6618 - val_accuracy: 0.6934\n",
            "Epoch 2/20\n",
            "855/855 [==============================] - 1s 1ms/step - loss: 9.5673 - accuracy: 0.6855 - val_loss: 0.5642 - val_accuracy: 0.7614\n",
            "Epoch 3/20\n",
            "855/855 [==============================] - 1s 1ms/step - loss: 3.1025 - accuracy: 0.6998 - val_loss: 0.5802 - val_accuracy: 0.7610\n",
            "Epoch 4/20\n",
            "855/855 [==============================] - 1s 2ms/step - loss: 1.9315 - accuracy: 0.7142 - val_loss: 0.5552 - val_accuracy: 0.7614\n",
            "Epoch 5/20\n",
            "855/855 [==============================] - 1s 1ms/step - loss: 1.6255 - accuracy: 0.7277 - val_loss: 0.5512 - val_accuracy: 0.7614\n",
            "Epoch 6/20\n",
            "855/855 [==============================] - 1s 1ms/step - loss: 1.2732 - accuracy: 0.7314 - val_loss: 0.5500 - val_accuracy: 0.7614\n",
            "Epoch 7/20\n",
            "855/855 [==============================] - 1s 1ms/step - loss: 1.0816 - accuracy: 0.7381 - val_loss: 0.5497 - val_accuracy: 0.7614\n",
            "Epoch 8/20\n",
            "855/855 [==============================] - 1s 1ms/step - loss: 0.8417 - accuracy: 0.7427 - val_loss: 0.5495 - val_accuracy: 0.7614\n",
            "Epoch 9/20\n",
            "855/855 [==============================] - 1s 1ms/step - loss: 0.6654 - accuracy: 0.7467 - val_loss: 0.5495 - val_accuracy: 0.7614\n",
            "Epoch 10/20\n",
            "855/855 [==============================] - 1s 1ms/step - loss: 0.6157 - accuracy: 0.7523 - val_loss: 0.5495 - val_accuracy: 0.7614\n",
            "Epoch 11/20\n",
            "855/855 [==============================] - 1s 1ms/step - loss: 0.5980 - accuracy: 0.7582 - val_loss: 0.5495 - val_accuracy: 0.7614\n",
            "Epoch 12/20\n",
            "855/855 [==============================] - 1s 1ms/step - loss: 0.5744 - accuracy: 0.7631 - val_loss: 0.5495 - val_accuracy: 0.7614\n",
            "Epoch 13/20\n",
            "855/855 [==============================] - 1s 1ms/step - loss: 0.5622 - accuracy: 0.7643 - val_loss: 0.5495 - val_accuracy: 0.7614\n",
            "Epoch 14/20\n",
            "855/855 [==============================] - 1s 1ms/step - loss: 0.6051 - accuracy: 0.7644 - val_loss: 0.5495 - val_accuracy: 0.7614\n",
            "Epoch 15/20\n",
            "855/855 [==============================] - 1s 1ms/step - loss: 0.5551 - accuracy: 0.7601 - val_loss: 0.5495 - val_accuracy: 0.7614\n",
            "Epoch 16/20\n",
            "855/855 [==============================] - 1s 1ms/step - loss: 0.5530 - accuracy: 0.7646 - val_loss: 0.5495 - val_accuracy: 0.7614\n",
            "Epoch 17/20\n",
            "855/855 [==============================] - 1s 1ms/step - loss: 0.5480 - accuracy: 0.7628 - val_loss: 0.5495 - val_accuracy: 0.7614\n",
            "Epoch 18/20\n",
            "855/855 [==============================] - 1s 1ms/step - loss: 0.5534 - accuracy: 0.7581 - val_loss: 0.5495 - val_accuracy: 0.7614\n",
            "Epoch 19/20\n",
            "855/855 [==============================] - 1s 1ms/step - loss: 0.5453 - accuracy: 0.7650 - val_loss: 0.5495 - val_accuracy: 0.7614\n",
            "Epoch 20/20\n",
            "855/855 [==============================] - 1s 1ms/step - loss: 0.5487 - accuracy: 0.7633 - val_loss: 0.5495 - val_accuracy: 0.7614\n"
          ],
          "name": "stdout"
        },
        {
          "output_type": "display_data",
          "data": {
            "image/png": "[encoded data removed]",
            "text/plain": [
              "<Figure size 720x360 with 2 Axes>"
            ]
          },
          "metadata": {
            "tags": [],
            "needs_background": "light"
          }
        },
        {
          "output_type": "stream",
          "text": [
            "306/306 [==============================] - 0s 751us/step - loss: 0.5548 - accuracy: 0.7568\n",
            "------------------------------\n",
            "Test Accuracy\n",
            "------------------------------\n",
            "Deep Learning with Neural Network: 0.7567816376686096\n"
          ],
          "name": "stdout"
        }
      ]
    },
    {
      "cell_type": "code",
      "metadata": {
        "colab": {
          "base_uri": "https://localhost:8080/",
          "height": 1000
        },
        "id": "BPe76MoX38Y9",
        "outputId": "756fa836-d227-4090-d813-80634e8a6e60"
      },
      "source": [
        "def gpu():\n",
        "  with tf.device('/device:GPU:0'):\n",
        "    ANN()\n",
        "gpu()"
      ],
      "execution_count": 26,
      "outputs": [
        {
          "output_type": "stream",
          "text": [
            "Epoch 1/20\n",
            "855/855 [==============================] - 3s 3ms/step - loss: 630.1441 - accuracy: 0.6609 - val_loss: 0.8613 - val_accuracy: 0.7650\n",
            "Epoch 2/20\n",
            "855/855 [==============================] - 3s 3ms/step - loss: 7.6079 - accuracy: 0.7236 - val_loss: 0.5723 - val_accuracy: 0.7638\n",
            "Epoch 3/20\n",
            "855/855 [==============================] - 3s 3ms/step - loss: 2.4237 - accuracy: 0.7394 - val_loss: 0.5941 - val_accuracy: 0.7522\n",
            "Epoch 4/20\n",
            "855/855 [==============================] - 3s 3ms/step - loss: 2.1541 - accuracy: 0.7433 - val_loss: 0.5544 - val_accuracy: 0.7634\n",
            "Epoch 5/20\n",
            "855/855 [==============================] - 3s 3ms/step - loss: 1.0388 - accuracy: 0.7524 - val_loss: 0.5462 - val_accuracy: 0.7634\n",
            "Epoch 6/20\n",
            "855/855 [==============================] - 3s 3ms/step - loss: 1.0851 - accuracy: 0.7524 - val_loss: 0.5487 - val_accuracy: 0.7633\n",
            "Epoch 7/20\n",
            "855/855 [==============================] - 3s 3ms/step - loss: 0.7537 - accuracy: 0.7614 - val_loss: 0.5480 - val_accuracy: 0.7624\n",
            "Epoch 8/20\n",
            "855/855 [==============================] - 3s 3ms/step - loss: 0.6433 - accuracy: 0.7628 - val_loss: 0.5478 - val_accuracy: 0.7624\n",
            "Epoch 9/20\n",
            "855/855 [==============================] - 3s 3ms/step - loss: 0.5875 - accuracy: 0.7589 - val_loss: 0.5474 - val_accuracy: 0.7628\n",
            "Epoch 10/20\n",
            "855/855 [==============================] - 3s 3ms/step - loss: 0.5864 - accuracy: 0.7639 - val_loss: 0.5474 - val_accuracy: 0.7624\n",
            "Epoch 11/20\n",
            "855/855 [==============================] - 3s 3ms/step - loss: 0.5691 - accuracy: 0.7613 - val_loss: 0.5455 - val_accuracy: 0.7642\n",
            "Epoch 12/20\n",
            "855/855 [==============================] - 3s 3ms/step - loss: 0.5637 - accuracy: 0.7654 - val_loss: 0.5470 - val_accuracy: 0.7632\n",
            "Epoch 13/20\n",
            "855/855 [==============================] - 3s 3ms/step - loss: 0.5520 - accuracy: 0.7642 - val_loss: 0.5465 - val_accuracy: 0.7635\n",
            "Epoch 14/20\n",
            "855/855 [==============================] - 3s 3ms/step - loss: 0.5510 - accuracy: 0.7626 - val_loss: 0.5463 - val_accuracy: 0.7636\n",
            "Epoch 15/20\n",
            "855/855 [==============================] - 3s 3ms/step - loss: 0.5497 - accuracy: 0.7609 - val_loss: 0.5449 - val_accuracy: 0.7645\n",
            "Epoch 16/20\n",
            "855/855 [==============================] - 3s 3ms/step - loss: 0.5518 - accuracy: 0.7660 - val_loss: 0.5469 - val_accuracy: 0.7633\n",
            "Epoch 17/20\n",
            "855/855 [==============================] - 3s 3ms/step - loss: 0.5540 - accuracy: 0.7629 - val_loss: 0.5480 - val_accuracy: 0.7624\n",
            "Epoch 18/20\n",
            "855/855 [==============================] - 3s 3ms/step - loss: 0.5494 - accuracy: 0.7617 - val_loss: 0.5468 - val_accuracy: 0.7632\n",
            "Epoch 19/20\n",
            "855/855 [==============================] - 3s 3ms/step - loss: 0.5495 - accuracy: 0.7609 - val_loss: 0.5432 - val_accuracy: 0.7657\n",
            "Epoch 20/20\n",
            "855/855 [==============================] - 3s 3ms/step - loss: 0.5422 - accuracy: 0.7684 - val_loss: 0.5464 - val_accuracy: 0.7635\n"
          ],
          "name": "stdout"
        },
        {
          "output_type": "display_data",
          "data": {
            "image/png": "[encoded data removed]",
            "text/plain": [
              "<Figure size 720x360 with 2 Axes>"
            ]
          },
          "metadata": {
            "tags": [],
            "needs_background": "light"
          }
        },
        {
          "output_type": "stream",
          "text": [
            "306/306 [==============================] - 1s 2ms/step - loss: 0.5526 - accuracy: 0.7583\n",
            "------------------------------\n",
            "Test Accuracy\n",
            "------------------------------\n",
            "Deep Learning with Neural Network: 0.7583171129226685\n"
          ],
          "name": "stdout"
        }
      ]
    },
    {
      "cell_type": "markdown",
      "metadata": {
        "id": "I9ienDqO6nPh"
      },
      "source": [
        "This is strage result! \n",
        "I expected GPU much faster than CPU\n",
        "but, actual speed result is CPU faster than GPU\n",
        "it may be that small neural network with few calculations is a poor fit for a GPU"
      ]
    },
    {
      "cell_type": "code",
      "metadata": {
        "id": "AHLkf_Vk7k8l"
      },
      "source": [
        "# ------------------------------------------------------------------\n",
        "# Model. Artificial Neural Network Deep Learning using Keras high-level API\n",
        "# ------------------------------------------------------------------\n",
        "def ANN2():\n",
        "  model = tf.keras.Sequential([\n",
        "          tf.keras.layers.Dense(600, input_shape=X_train[1].shape, activation='relu'),\n",
        "          tf.keras.layers.Dropout(0.3), # for reduce overfitting\n",
        "          tf.keras.layers.Dense(200, activation='relu'),\n",
        "          tf.keras.layers.Dropout(0.3), # for reduce overfitting\n",
        "          tf.keras.layers.Dense(100, activation='relu'),\n",
        "          tf.keras.layers.Dropout(0.3), # for reduce overfitting\n",
        "          tf.keras.layers.Dense(1, activation='sigmoid') # output is 1 or o, so sigmoid function is used\n",
        "          ])\n",
        "\n",
        "  model.compile(\n",
        "      optimizer=tf.keras.optimizers.Adam(lr=0.001, beta_1=0.9, beta_2=0.999),\n",
        "      loss=tf.keras.losses.binary_crossentropy, # prediction is 1 or 0, so binary_crossentropy is selected.\n",
        "      metrics=['accuracy']\n",
        "  )\n",
        "\n",
        "  train = model.fit(X_train, y_train,\n",
        "                      validation_split=0.3, # train data split into train 70%, validation 30%\n",
        "                      epochs=20,\n",
        "                      verbose=1 # online display with progressbar\n",
        "                      )"
      ],
      "execution_count": 27,
      "outputs": []
    },
    {
      "cell_type": "code",
      "metadata": {
        "colab": {
          "base_uri": "https://localhost:8080/"
        },
        "id": "a5omWpuB8Ln0",
        "outputId": "5c2bd55b-57c8-4a62-9584-4b5e1a635473"
      },
      "source": [
        "def cpu():\n",
        "  with tf.device('/cpu:0'):\n",
        "    ANN2()\n",
        "cpu()"
      ],
      "execution_count": 28,
      "outputs": [
        {
          "output_type": "stream",
          "text": [
            "Epoch 1/20\n",
            "855/855 [==============================] - 4s 4ms/step - loss: 541.1238 - accuracy: 0.6391 - val_loss: 0.6226 - val_accuracy: 0.7624\n",
            "Epoch 2/20\n",
            "855/855 [==============================] - 4s 4ms/step - loss: 2.5718 - accuracy: 0.7362 - val_loss: 0.5572 - val_accuracy: 0.7623\n",
            "Epoch 3/20\n",
            "855/855 [==============================] - 4s 4ms/step - loss: 1.8378 - accuracy: 0.7585 - val_loss: 0.5495 - val_accuracy: 0.7619\n",
            "Epoch 4/20\n",
            "855/855 [==============================] - 4s 4ms/step - loss: 1.5173 - accuracy: 0.7601 - val_loss: 0.5488 - val_accuracy: 0.7619\n",
            "Epoch 5/20\n",
            "855/855 [==============================] - 4s 4ms/step - loss: 0.7816 - accuracy: 0.7576 - val_loss: 0.5490 - val_accuracy: 0.7617\n",
            "Epoch 6/20\n",
            "855/855 [==============================] - 4s 5ms/step - loss: 0.7265 - accuracy: 0.7626 - val_loss: 0.5495 - val_accuracy: 0.7614\n",
            "Epoch 7/20\n",
            "855/855 [==============================] - 4s 5ms/step - loss: 0.7152 - accuracy: 0.7645 - val_loss: 0.5495 - val_accuracy: 0.7614\n",
            "Epoch 8/20\n",
            "855/855 [==============================] - 4s 5ms/step - loss: 0.5904 - accuracy: 0.7570 - val_loss: 0.5495 - val_accuracy: 0.7614\n",
            "Epoch 9/20\n",
            "855/855 [==============================] - 4s 5ms/step - loss: 0.6159 - accuracy: 0.7586 - val_loss: 0.5495 - val_accuracy: 0.7614\n",
            "Epoch 10/20\n",
            "855/855 [==============================] - 4s 5ms/step - loss: 0.7313 - accuracy: 0.7623 - val_loss: 0.5495 - val_accuracy: 0.7614\n",
            "Epoch 11/20\n",
            "855/855 [==============================] - 3s 4ms/step - loss: 0.5553 - accuracy: 0.7567 - val_loss: 0.5495 - val_accuracy: 0.7614\n",
            "Epoch 12/20\n",
            "855/855 [==============================] - 3s 4ms/step - loss: 0.6123 - accuracy: 0.7612 - val_loss: 0.5495 - val_accuracy: 0.7614\n",
            "Epoch 13/20\n",
            "855/855 [==============================] - 3s 4ms/step - loss: 0.7736 - accuracy: 0.7640 - val_loss: 0.5495 - val_accuracy: 0.7614\n",
            "Epoch 14/20\n",
            "855/855 [==============================] - 4s 4ms/step - loss: 0.5698 - accuracy: 0.7629 - val_loss: 0.5495 - val_accuracy: 0.7614\n",
            "Epoch 15/20\n",
            "855/855 [==============================] - 4s 5ms/step - loss: 0.5926 - accuracy: 0.7631 - val_loss: 0.5495 - val_accuracy: 0.7614\n",
            "Epoch 16/20\n",
            "855/855 [==============================] - 4s 5ms/step - loss: 0.6729 - accuracy: 0.7647 - val_loss: 0.5495 - val_accuracy: 0.7614\n",
            "Epoch 17/20\n",
            "855/855 [==============================] - 4s 5ms/step - loss: 0.5552 - accuracy: 0.7674 - val_loss: 0.5495 - val_accuracy: 0.7614\n",
            "Epoch 18/20\n",
            "855/855 [==============================] - 4s 5ms/step - loss: 0.6472 - accuracy: 0.7601 - val_loss: 0.5495 - val_accuracy: 0.7614\n",
            "Epoch 19/20\n",
            "855/855 [==============================] - 4s 4ms/step - loss: 0.5937 - accuracy: 0.7605 - val_loss: 0.5495 - val_accuracy: 0.7614\n",
            "Epoch 20/20\n",
            "855/855 [==============================] - 4s 5ms/step - loss: 0.5608 - accuracy: 0.7624 - val_loss: 0.5495 - val_accuracy: 0.7614\n"
          ],
          "name": "stdout"
        }
      ]
    },
    {
      "cell_type": "code",
      "metadata": {
        "colab": {
          "base_uri": "https://localhost:8080/"
        },
        "id": "iSUTysBd8TW6",
        "outputId": "96531c28-f520-4a53-b67d-e7b89c0444f1"
      },
      "source": [
        "def gpu():\n",
        "  with tf.device('/device:GPU:0'):\n",
        "    ANN2()\n",
        "gpu()"
      ],
      "execution_count": 29,
      "outputs": [
        {
          "output_type": "stream",
          "text": [
            "Epoch 1/20\n",
            "855/855 [==============================] - 3s 3ms/step - loss: 605.3713 - accuracy: 0.6714 - val_loss: 0.5427 - val_accuracy: 0.7662\n",
            "Epoch 2/20\n",
            "855/855 [==============================] - 3s 3ms/step - loss: 0.8955 - accuracy: 0.7619 - val_loss: 0.5407 - val_accuracy: 0.7675\n",
            "Epoch 3/20\n",
            "855/855 [==============================] - 3s 3ms/step - loss: 0.8928 - accuracy: 0.7656 - val_loss: 0.5444 - val_accuracy: 0.7649\n",
            "Epoch 4/20\n",
            "855/855 [==============================] - 3s 3ms/step - loss: 0.6581 - accuracy: 0.7598 - val_loss: 0.5445 - val_accuracy: 0.7649\n",
            "Epoch 5/20\n",
            "855/855 [==============================] - 3s 3ms/step - loss: 0.7428 - accuracy: 0.7605 - val_loss: 0.5416 - val_accuracy: 0.7668\n",
            "Epoch 6/20\n",
            "855/855 [==============================] - 3s 3ms/step - loss: 0.5694 - accuracy: 0.7614 - val_loss: 0.5466 - val_accuracy: 0.7634\n",
            "Epoch 7/20\n",
            "855/855 [==============================] - 3s 3ms/step - loss: 0.5871 - accuracy: 0.7612 - val_loss: 0.5410 - val_accuracy: 0.7673\n",
            "Epoch 8/20\n",
            "855/855 [==============================] - 3s 3ms/step - loss: 0.6943 - accuracy: 0.7619 - val_loss: 0.5488 - val_accuracy: 0.7619\n",
            "Epoch 9/20\n",
            "855/855 [==============================] - 3s 3ms/step - loss: 0.5746 - accuracy: 0.7663 - val_loss: 0.5490 - val_accuracy: 0.7619\n",
            "Epoch 10/20\n",
            "855/855 [==============================] - 3s 3ms/step - loss: 0.5928 - accuracy: 0.7579 - val_loss: 0.5489 - val_accuracy: 0.7619\n",
            "Epoch 11/20\n",
            "855/855 [==============================] - 3s 3ms/step - loss: 0.7089 - accuracy: 0.7655 - val_loss: 0.5488 - val_accuracy: 0.7619\n",
            "Epoch 12/20\n",
            "855/855 [==============================] - 3s 3ms/step - loss: 0.5506 - accuracy: 0.7622 - val_loss: 0.5489 - val_accuracy: 0.7619\n",
            "Epoch 13/20\n",
            "855/855 [==============================] - 3s 3ms/step - loss: 0.6684 - accuracy: 0.7578 - val_loss: 0.5488 - val_accuracy: 0.7619\n",
            "Epoch 14/20\n",
            "855/855 [==============================] - 3s 3ms/step - loss: 0.7731 - accuracy: 0.7606 - val_loss: 0.5489 - val_accuracy: 0.7618\n",
            "Epoch 15/20\n",
            "855/855 [==============================] - 3s 3ms/step - loss: 0.5593 - accuracy: 0.7584 - val_loss: 0.5488 - val_accuracy: 0.7619\n",
            "Epoch 16/20\n",
            "855/855 [==============================] - 3s 3ms/step - loss: 0.5933 - accuracy: 0.7612 - val_loss: 0.5489 - val_accuracy: 0.7618\n",
            "Epoch 17/20\n",
            "855/855 [==============================] - 3s 3ms/step - loss: 0.5633 - accuracy: 0.7585 - val_loss: 0.5490 - val_accuracy: 0.7617\n",
            "Epoch 18/20\n",
            "855/855 [==============================] - 3s 3ms/step - loss: 0.5915 - accuracy: 0.7622 - val_loss: 0.5490 - val_accuracy: 0.7617\n",
            "Epoch 19/20\n",
            "855/855 [==============================] - 3s 3ms/step - loss: 0.6136 - accuracy: 0.7619 - val_loss: 0.5491 - val_accuracy: 0.7616\n",
            "Epoch 20/20\n",
            "855/855 [==============================] - 3s 3ms/step - loss: 0.6069 - accuracy: 0.7634 - val_loss: 0.5491 - val_accuracy: 0.7616\n"
          ],
          "name": "stdout"
        }
      ]
    },
    {
      "cell_type": "markdown",
      "metadata": {
        "id": "q2PZTNpK9JQ_"
      },
      "source": [
        "I changed the bigger number of node, and GPU is a bit faster than CPU\n",
        "I guess GPU is much faster in big neural network, such as image/audio/language"
      ]
    },
    {
      "cell_type": "code",
      "metadata": {
        "colab": {
          "base_uri": "https://localhost:8080/"
        },
        "id": "KfnfjBoCHha_",
        "outputId": "ea03b8bf-0e16-4afd-e1ea-59b0926146c0"
      },
      "source": [
        "# ------------------------------------------------------------------\n",
        "# Appendix. Comparison to other algorithms using Scikit-Learn\n",
        "# refer to https://www.kaggle.com/overload10/income-prediction-on-uci-adult-dataset\n",
        "# ------------------------------------------------------------------\n",
        "# Model. Logistic Regression\n",
        "model = sklearn.linear_model.LogisticRegression()\n",
        "model.fit(X_train, y_train)\n",
        "y_pred = model.predict(X_test)\n",
        "test_acc = sklearn.metrics.accuracy_score(y_test, y_pred)\n",
        "print(\"Logistic Regression:\",test_acc)\n",
        "\n",
        "# Model. Random Forest\n",
        "model = sklearn.ensemble.RandomForestClassifier()\n",
        "model.fit(X_train, y_train)\n",
        "y_pred = model.predict(X_test)\n",
        "test_acc = sklearn.metrics.accuracy_score(y_test, y_pred)\n",
        "print(\"Random Forest:\",test_acc)\n",
        "\n",
        "# Model. Neural Network\n",
        "model = sklearn.neural_network.MLPClassifier()\n",
        "model.fit(X_train, y_train)\n",
        "y_pred = model.predict(X_test)\n",
        "test_acc = sklearn.metrics.accuracy_score(y_test, y_pred)\n",
        "print(\"Neural Network:\",test_acc)\n",
        "\n",
        "# Model. Naive Bayes\n",
        "model = sklearn.naive_bayes.GaussianNB()\n",
        "model.fit(X_train, y_train)\n",
        "y_pred = model.predict(X_test)\n",
        "test_acc = sklearn.metrics.accuracy_score(y_test, y_pred)\n",
        "print(\"Gaussian NB:\",test_acc)\n",
        "\n",
        "# Model. Decision Tree\n",
        "model = sklearn.tree.DecisionTreeClassifier()\n",
        "model.fit(X_train, y_train)\n",
        "y_pred = model.predict(X_test)\n",
        "test_acc = sklearn.metrics.accuracy_score(y_test, y_pred)\n",
        "print(\"Decision Tree Classifier:\",test_acc)\n",
        "\n",
        "# Model. SVM\n",
        "model = sklearn.svm.SVC()\n",
        "model.fit(X_train, y_train)\n",
        "y_pred = model.predict(X_test)\n",
        "test_acc = sklearn.metrics.accuracy_score(y_test, y_pred)\n",
        "print(\"SVM:\",test_acc)\n"
      ],
      "execution_count": null,
      "outputs": [
        {
          "output_type": "stream",
          "text": [
            "Logistic Regression: 0.7917903572525335\n",
            "Random Forest: 0.8529020370559934\n"
          ],
          "name": "stdout"
        },
        {
          "output_type": "stream",
          "text": [
            "/usr/local/lib/python3.7/dist-packages/sklearn/neural_network/_multilayer_perceptron.py:571: ConvergenceWarning: Stochastic Optimizer: Maximum iterations (200) reached and the optimization hasn't converged yet.\n",
            "  % self.max_iter, ConvergenceWarning)\n"
          ],
          "name": "stderr"
        },
        {
          "output_type": "stream",
          "text": [
            "Neural Network: 0.7692701402395332\n",
            "Gaussian NB: 0.7882075954550107\n",
            "Decision Tree Classifier: 0.8094994369945747\n",
            "SVM: 0.7908690756474562\n"
          ],
          "name": "stdout"
        }
      ]
    }
  ]
}